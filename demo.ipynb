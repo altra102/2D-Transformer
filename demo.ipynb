{
  "nbformat": 4,
  "nbformat_minor": 0,
  "metadata": {
    "colab": {
      "name": "demo.ipynb",
      "provenance": [],
      "collapsed_sections": [],
      "authorship_tag": "ABX9TyOHhAJBnJkkX5kTRSbM64qw",
      "include_colab_link": true
    },
    "kernelspec": {
      "name": "python3",
      "display_name": "Python 3"
    },
    "language_info": {
      "name": "python"
    },
    "accelerator": "GPU",
    "widgets": {
      "application/vnd.jupyter.widget-state+json": {
        "7b0dcc8b86144ec3a76ac9477dbbc123": {
          "model_module": "@jupyter-widgets/controls",
          "model_name": "HBoxModel",
          "model_module_version": "1.5.0",
          "state": {
            "_view_name": "HBoxView",
            "_dom_classes": [],
            "_model_name": "HBoxModel",
            "_view_module": "@jupyter-widgets/controls",
            "_model_module_version": "1.5.0",
            "_view_count": null,
            "_view_module_version": "1.5.0",
            "box_style": "",
            "layout": "IPY_MODEL_67ab26286dd54a549e0e9080f3463ea8",
            "_model_module": "@jupyter-widgets/controls",
            "children": [
              "IPY_MODEL_07fa35f845d44d1d81b79f3cb5523518",
              "IPY_MODEL_06ae63bcb0c94f689b607671252d3485",
              "IPY_MODEL_dff7a915546a4ce484ef830cece7dbbb"
            ]
          }
        },
        "67ab26286dd54a549e0e9080f3463ea8": {
          "model_module": "@jupyter-widgets/base",
          "model_name": "LayoutModel",
          "model_module_version": "1.2.0",
          "state": {
            "_view_name": "LayoutView",
            "grid_template_rows": null,
            "right": null,
            "justify_content": null,
            "_view_module": "@jupyter-widgets/base",
            "overflow": null,
            "_model_module_version": "1.2.0",
            "_view_count": null,
            "flex_flow": null,
            "width": null,
            "min_width": null,
            "border": null,
            "align_items": null,
            "bottom": null,
            "_model_module": "@jupyter-widgets/base",
            "top": null,
            "grid_column": null,
            "overflow_y": null,
            "overflow_x": null,
            "grid_auto_flow": null,
            "grid_area": null,
            "grid_template_columns": null,
            "flex": null,
            "_model_name": "LayoutModel",
            "justify_items": null,
            "grid_row": null,
            "max_height": null,
            "align_content": null,
            "visibility": null,
            "align_self": null,
            "height": null,
            "min_height": null,
            "padding": null,
            "grid_auto_rows": null,
            "grid_gap": null,
            "max_width": null,
            "order": null,
            "_view_module_version": "1.2.0",
            "grid_template_areas": null,
            "object_position": null,
            "object_fit": null,
            "grid_auto_columns": null,
            "margin": null,
            "display": null,
            "left": null
          }
        },
        "07fa35f845d44d1d81b79f3cb5523518": {
          "model_module": "@jupyter-widgets/controls",
          "model_name": "HTMLModel",
          "model_module_version": "1.5.0",
          "state": {
            "_view_name": "HTMLView",
            "style": "IPY_MODEL_0d1fa8065be24805bf10791a8fb868bf",
            "_dom_classes": [],
            "description": "",
            "_model_name": "HTMLModel",
            "placeholder": "​",
            "_view_module": "@jupyter-widgets/controls",
            "_model_module_version": "1.5.0",
            "value": "100%",
            "_view_count": null,
            "_view_module_version": "1.5.0",
            "description_tooltip": null,
            "_model_module": "@jupyter-widgets/controls",
            "layout": "IPY_MODEL_74b10e8af95542dd93067fe50536dc84"
          }
        },
        "06ae63bcb0c94f689b607671252d3485": {
          "model_module": "@jupyter-widgets/controls",
          "model_name": "FloatProgressModel",
          "model_module_version": "1.5.0",
          "state": {
            "_view_name": "ProgressView",
            "style": "IPY_MODEL_b62c7403f0cb49068539978b854858c6",
            "_dom_classes": [],
            "description": "",
            "_model_name": "FloatProgressModel",
            "bar_style": "success",
            "max": 412,
            "_view_module": "@jupyter-widgets/controls",
            "_model_module_version": "1.5.0",
            "value": 412,
            "_view_count": null,
            "_view_module_version": "1.5.0",
            "orientation": "horizontal",
            "min": 0,
            "description_tooltip": null,
            "_model_module": "@jupyter-widgets/controls",
            "layout": "IPY_MODEL_cf8a79a76be94ba9a04b02cd2e23a746"
          }
        },
        "dff7a915546a4ce484ef830cece7dbbb": {
          "model_module": "@jupyter-widgets/controls",
          "model_name": "HTMLModel",
          "model_module_version": "1.5.0",
          "state": {
            "_view_name": "HTMLView",
            "style": "IPY_MODEL_7de0bc74a60e4122a21f0a6a39a12536",
            "_dom_classes": [],
            "description": "",
            "_model_name": "HTMLModel",
            "placeholder": "​",
            "_view_module": "@jupyter-widgets/controls",
            "_model_module_version": "1.5.0",
            "value": " 412/412 [02:16&lt;00:00,  3.03it/s]",
            "_view_count": null,
            "_view_module_version": "1.5.0",
            "description_tooltip": null,
            "_model_module": "@jupyter-widgets/controls",
            "layout": "IPY_MODEL_a56ad9259fc745af861ca61c1669d798"
          }
        },
        "0d1fa8065be24805bf10791a8fb868bf": {
          "model_module": "@jupyter-widgets/controls",
          "model_name": "DescriptionStyleModel",
          "model_module_version": "1.5.0",
          "state": {
            "_view_name": "StyleView",
            "_model_name": "DescriptionStyleModel",
            "description_width": "",
            "_view_module": "@jupyter-widgets/base",
            "_model_module_version": "1.5.0",
            "_view_count": null,
            "_view_module_version": "1.2.0",
            "_model_module": "@jupyter-widgets/controls"
          }
        },
        "74b10e8af95542dd93067fe50536dc84": {
          "model_module": "@jupyter-widgets/base",
          "model_name": "LayoutModel",
          "model_module_version": "1.2.0",
          "state": {
            "_view_name": "LayoutView",
            "grid_template_rows": null,
            "right": null,
            "justify_content": null,
            "_view_module": "@jupyter-widgets/base",
            "overflow": null,
            "_model_module_version": "1.2.0",
            "_view_count": null,
            "flex_flow": null,
            "width": null,
            "min_width": null,
            "border": null,
            "align_items": null,
            "bottom": null,
            "_model_module": "@jupyter-widgets/base",
            "top": null,
            "grid_column": null,
            "overflow_y": null,
            "overflow_x": null,
            "grid_auto_flow": null,
            "grid_area": null,
            "grid_template_columns": null,
            "flex": null,
            "_model_name": "LayoutModel",
            "justify_items": null,
            "grid_row": null,
            "max_height": null,
            "align_content": null,
            "visibility": null,
            "align_self": null,
            "height": null,
            "min_height": null,
            "padding": null,
            "grid_auto_rows": null,
            "grid_gap": null,
            "max_width": null,
            "order": null,
            "_view_module_version": "1.2.0",
            "grid_template_areas": null,
            "object_position": null,
            "object_fit": null,
            "grid_auto_columns": null,
            "margin": null,
            "display": null,
            "left": null
          }
        },
        "b62c7403f0cb49068539978b854858c6": {
          "model_module": "@jupyter-widgets/controls",
          "model_name": "ProgressStyleModel",
          "model_module_version": "1.5.0",
          "state": {
            "_view_name": "StyleView",
            "_model_name": "ProgressStyleModel",
            "description_width": "",
            "_view_module": "@jupyter-widgets/base",
            "_model_module_version": "1.5.0",
            "_view_count": null,
            "_view_module_version": "1.2.0",
            "bar_color": null,
            "_model_module": "@jupyter-widgets/controls"
          }
        },
        "cf8a79a76be94ba9a04b02cd2e23a746": {
          "model_module": "@jupyter-widgets/base",
          "model_name": "LayoutModel",
          "model_module_version": "1.2.0",
          "state": {
            "_view_name": "LayoutView",
            "grid_template_rows": null,
            "right": null,
            "justify_content": null,
            "_view_module": "@jupyter-widgets/base",
            "overflow": null,
            "_model_module_version": "1.2.0",
            "_view_count": null,
            "flex_flow": null,
            "width": null,
            "min_width": null,
            "border": null,
            "align_items": null,
            "bottom": null,
            "_model_module": "@jupyter-widgets/base",
            "top": null,
            "grid_column": null,
            "overflow_y": null,
            "overflow_x": null,
            "grid_auto_flow": null,
            "grid_area": null,
            "grid_template_columns": null,
            "flex": null,
            "_model_name": "LayoutModel",
            "justify_items": null,
            "grid_row": null,
            "max_height": null,
            "align_content": null,
            "visibility": null,
            "align_self": null,
            "height": null,
            "min_height": null,
            "padding": null,
            "grid_auto_rows": null,
            "grid_gap": null,
            "max_width": null,
            "order": null,
            "_view_module_version": "1.2.0",
            "grid_template_areas": null,
            "object_position": null,
            "object_fit": null,
            "grid_auto_columns": null,
            "margin": null,
            "display": null,
            "left": null
          }
        },
        "7de0bc74a60e4122a21f0a6a39a12536": {
          "model_module": "@jupyter-widgets/controls",
          "model_name": "DescriptionStyleModel",
          "model_module_version": "1.5.0",
          "state": {
            "_view_name": "StyleView",
            "_model_name": "DescriptionStyleModel",
            "description_width": "",
            "_view_module": "@jupyter-widgets/base",
            "_model_module_version": "1.5.0",
            "_view_count": null,
            "_view_module_version": "1.2.0",
            "_model_module": "@jupyter-widgets/controls"
          }
        },
        "a56ad9259fc745af861ca61c1669d798": {
          "model_module": "@jupyter-widgets/base",
          "model_name": "LayoutModel",
          "model_module_version": "1.2.0",
          "state": {
            "_view_name": "LayoutView",
            "grid_template_rows": null,
            "right": null,
            "justify_content": null,
            "_view_module": "@jupyter-widgets/base",
            "overflow": null,
            "_model_module_version": "1.2.0",
            "_view_count": null,
            "flex_flow": null,
            "width": null,
            "min_width": null,
            "border": null,
            "align_items": null,
            "bottom": null,
            "_model_module": "@jupyter-widgets/base",
            "top": null,
            "grid_column": null,
            "overflow_y": null,
            "overflow_x": null,
            "grid_auto_flow": null,
            "grid_area": null,
            "grid_template_columns": null,
            "flex": null,
            "_model_name": "LayoutModel",
            "justify_items": null,
            "grid_row": null,
            "max_height": null,
            "align_content": null,
            "visibility": null,
            "align_self": null,
            "height": null,
            "min_height": null,
            "padding": null,
            "grid_auto_rows": null,
            "grid_gap": null,
            "max_width": null,
            "order": null,
            "_view_module_version": "1.2.0",
            "grid_template_areas": null,
            "object_position": null,
            "object_fit": null,
            "grid_auto_columns": null,
            "margin": null,
            "display": null,
            "left": null
          }
        }
      }
    }
  },
  "cells": [
    {
      "cell_type": "markdown",
      "metadata": {
        "id": "view-in-github",
        "colab_type": "text"
      },
      "source": [
        "<a href=\"https://colab.research.google.com/github/altra102/2D-Transformer/blob/main/demo.ipynb\" target=\"_parent\"><img src=\"https://colab.research.google.com/assets/colab-badge.svg\" alt=\"Open In Colab\"/></a>"
      ]
    },
    {
      "cell_type": "code",
      "metadata": {
        "id": "ynK2zCh2upTv",
        "colab": {
          "base_uri": "https://localhost:8080/"
        },
        "outputId": "fa3e9d8a-737b-4181-b9c6-a750fe68c4e4"
      },
      "source": [
        "!git clone https://github.com/altra102/2D-Transformer.git\n",
        "!pip install compress_pickle"
      ],
      "execution_count": 1,
      "outputs": [
        {
          "output_type": "stream",
          "name": "stdout",
          "text": [
            "Cloning into '2D-Transformer'...\n",
            "remote: Enumerating objects: 71, done.\u001b[K\n",
            "remote: Counting objects: 100% (71/71), done.\u001b[K\n",
            "remote: Compressing objects: 100% (70/70), done.\u001b[K\n",
            "remote: Total 71 (delta 31), reused 0 (delta 0), pack-reused 0\u001b[K\n",
            "Unpacking objects: 100% (71/71), done.\n",
            "Collecting compress_pickle\n",
            "  Downloading compress_pickle-2.1.0-py3-none-any.whl (24 kB)\n",
            "Installing collected packages: compress-pickle\n",
            "Successfully installed compress-pickle-2.1.0\n"
          ]
        }
      ]
    },
    {
      "cell_type": "code",
      "metadata": {
        "id": "qYdleyXZuxpS",
        "colab": {
          "base_uri": "https://localhost:8080/"
        },
        "outputId": "3f1eb0ac-f5b6-44e5-9824-9152438278c6"
      },
      "source": [
        "cd 2D-Transformer"
      ],
      "execution_count": 23,
      "outputs": [
        {
          "output_type": "stream",
          "name": "stdout",
          "text": [
            "/content/2D-Transformer\n"
          ]
        }
      ]
    },
    {
      "cell_type": "code",
      "metadata": {
        "id": "-puYqpy7uxmw",
        "colab": {
          "base_uri": "https://localhost:8080/"
        },
        "outputId": "399835e4-6f47-4bc8-87b1-1fcd76d31fca"
      },
      "source": [
        "cd Model"
      ],
      "execution_count": 24,
      "outputs": [
        {
          "output_type": "stream",
          "name": "stdout",
          "text": [
            "/content/2D-Transformer/Model\n"
          ]
        }
      ]
    },
    {
      "cell_type": "code",
      "metadata": {
        "id": "G0JmxysWuxkx"
      },
      "source": [
        "from transformer import Transformer2D\n",
        "from inference import inference"
      ],
      "execution_count": 25,
      "outputs": []
    },
    {
      "cell_type": "code",
      "metadata": {
        "id": "bsY2xm-wPEGS",
        "colab": {
          "base_uri": "https://localhost:8080/"
        },
        "outputId": "8d512a06-75e2-46a5-c9bd-4244992ff186"
      },
      "source": [
        "cd .."
      ],
      "execution_count": 5,
      "outputs": [
        {
          "output_type": "stream",
          "name": "stdout",
          "text": [
            "/content/2D-Transformer\n"
          ]
        }
      ]
    },
    {
      "cell_type": "code",
      "metadata": {
        "id": "ml4-mrSKPGYK",
        "colab": {
          "base_uri": "https://localhost:8080/"
        },
        "outputId": "6b97e148-e104-400c-860c-7030c3b7ae0a"
      },
      "source": [
        "cd Training"
      ],
      "execution_count": 6,
      "outputs": [
        {
          "output_type": "stream",
          "name": "stdout",
          "text": [
            "/content/2D-Transformer/Training\n"
          ]
        }
      ]
    },
    {
      "cell_type": "code",
      "metadata": {
        "id": "nC1gsCsvPGOh"
      },
      "source": [
        "from loadAndSafe import load_dict, save_dict\n",
        "from iamDataset import dict_dataset, create_alphabet, create_converter\n",
        "from train import LabelSmoothing, train, evaluate"
      ],
      "execution_count": 9,
      "outputs": []
    },
    {
      "cell_type": "code",
      "metadata": {
        "id": "G1Rw4ZO0VHbM"
      },
      "source": [
        "import numpy as np\n",
        "import torch\n",
        "from torch import nn\n",
        "from torch.utils.data import DataLoader\n",
        "from time import time\n"
      ],
      "execution_count": 10,
      "outputs": []
    },
    {
      "cell_type": "code",
      "metadata": {
        "id": "FroNQxXYXEev"
      },
      "source": [
        ""
      ],
      "execution_count": null,
      "outputs": []
    },
    {
      "cell_type": "code",
      "metadata": {
        "id": "LOlB3hTEuxid"
      },
      "source": [
        "#IAM Train Demo"
      ],
      "execution_count": null,
      "outputs": []
    },
    {
      "cell_type": "code",
      "metadata": {
        "colab": {
          "base_uri": "https://localhost:8080/"
        },
        "id": "nyRXfM2NRyHH",
        "outputId": "71665532-6b49-4a82-bd0c-dbfbd16aba87"
      },
      "source": [
        "!wget --load-cookies /tmp/cookies.txt \"https://docs.google.com/uc?export=download&confirm=$(wget --quiet --save-cookies /tmp/cookies.txt --keep-session-cookies --no-check-certificate 'https://docs.google.com/uc?export=download&id=1oxNXBLmfZ0FiNSQM1q_xau_7AcnKnwQA' -O- | sed -rn 's/.*confirm=([0-9A-Za-z_]+).*/\\1\\n/p')&id=1oxNXBLmfZ0FiNSQM1q_xau_7AcnKnwQA\" -O iam_dict_1024_128_3_aachen.gz && rm -rf /tmp/cookies.txt "
      ],
      "execution_count": 11,
      "outputs": [
        {
          "output_type": "stream",
          "name": "stdout",
          "text": [
            "--2021-10-07 15:25:26--  https://docs.google.com/uc?export=download&confirm=uo_T&id=1oxNXBLmfZ0FiNSQM1q_xau_7AcnKnwQA\n",
            "Resolving docs.google.com (docs.google.com)... 173.194.76.138, 173.194.76.102, 173.194.76.113, ...\n",
            "Connecting to docs.google.com (docs.google.com)|173.194.76.138|:443... connected.\n",
            "HTTP request sent, awaiting response... 302 Moved Temporarily\n",
            "Location: https://doc-08-6g-docs.googleusercontent.com/docs/securesc/7qkt3m3bdkvutmvekm6sbcov9bfgr237/f9krfbmlnaseast5r6s7qcmharrjvfme/1633620300000/11496534070352481065/11424203677153086091Z/1oxNXBLmfZ0FiNSQM1q_xau_7AcnKnwQA?e=download [following]\n",
            "--2021-10-07 15:25:26--  https://doc-08-6g-docs.googleusercontent.com/docs/securesc/7qkt3m3bdkvutmvekm6sbcov9bfgr237/f9krfbmlnaseast5r6s7qcmharrjvfme/1633620300000/11496534070352481065/11424203677153086091Z/1oxNXBLmfZ0FiNSQM1q_xau_7AcnKnwQA?e=download\n",
            "Resolving doc-08-6g-docs.googleusercontent.com (doc-08-6g-docs.googleusercontent.com)... 142.250.110.132, 2a00:1450:400c:c0d::84\n",
            "Connecting to doc-08-6g-docs.googleusercontent.com (doc-08-6g-docs.googleusercontent.com)|142.250.110.132|:443... connected.\n",
            "HTTP request sent, awaiting response... 302 Found\n",
            "Location: https://docs.google.com/nonceSigner?nonce=dh2291b450a7c&continue=https://doc-08-6g-docs.googleusercontent.com/docs/securesc/7qkt3m3bdkvutmvekm6sbcov9bfgr237/f9krfbmlnaseast5r6s7qcmharrjvfme/1633620300000/11496534070352481065/11424203677153086091Z/1oxNXBLmfZ0FiNSQM1q_xau_7AcnKnwQA?e%3Ddownload&hash=nc9bc1ogepvld4nu19kbmgj28mfv7e7i [following]\n",
            "--2021-10-07 15:25:26--  https://docs.google.com/nonceSigner?nonce=dh2291b450a7c&continue=https://doc-08-6g-docs.googleusercontent.com/docs/securesc/7qkt3m3bdkvutmvekm6sbcov9bfgr237/f9krfbmlnaseast5r6s7qcmharrjvfme/1633620300000/11496534070352481065/11424203677153086091Z/1oxNXBLmfZ0FiNSQM1q_xau_7AcnKnwQA?e%3Ddownload&hash=nc9bc1ogepvld4nu19kbmgj28mfv7e7i\n",
            "Connecting to docs.google.com (docs.google.com)|173.194.76.138|:443... connected.\n",
            "HTTP request sent, awaiting response... 302 Found\n",
            "Location: https://doc-08-6g-docs.googleusercontent.com/docs/securesc/7qkt3m3bdkvutmvekm6sbcov9bfgr237/f9krfbmlnaseast5r6s7qcmharrjvfme/1633620300000/11496534070352481065/11424203677153086091Z/1oxNXBLmfZ0FiNSQM1q_xau_7AcnKnwQA?e=download&nonce=dh2291b450a7c&user=11424203677153086091Z&hash=sk4no8b77q98lb9nmvjpce5b6988b0s8 [following]\n",
            "--2021-10-07 15:25:26--  https://doc-08-6g-docs.googleusercontent.com/docs/securesc/7qkt3m3bdkvutmvekm6sbcov9bfgr237/f9krfbmlnaseast5r6s7qcmharrjvfme/1633620300000/11496534070352481065/11424203677153086091Z/1oxNXBLmfZ0FiNSQM1q_xau_7AcnKnwQA?e=download&nonce=dh2291b450a7c&user=11424203677153086091Z&hash=sk4no8b77q98lb9nmvjpce5b6988b0s8\n",
            "Connecting to doc-08-6g-docs.googleusercontent.com (doc-08-6g-docs.googleusercontent.com)|142.250.110.132|:443... connected.\n",
            "HTTP request sent, awaiting response... 200 OK\n",
            "Length: 301491692 (288M) [application/x-gzip]\n",
            "Saving to: ‘iam_dict_1024_128_3_aachen.gz’\n",
            "\n",
            "iam_dict_1024_128_3 100%[===================>] 287.52M  79.8MB/s    in 3.9s    \n",
            "\n",
            "2021-10-07 15:25:31 (74.6 MB/s) - ‘iam_dict_1024_128_3_aachen.gz’ saved [301491692/301491692]\n",
            "\n"
          ]
        }
      ]
    },
    {
      "cell_type": "code",
      "metadata": {
        "id": "p4qVmk7rNNx0"
      },
      "source": [
        "#setup dataset\n",
        "iam_dict = load_dict('/content/2D-Transformer/Training/iam_dict_1024_128_3_aachen.gz')\n",
        "alphabet = create_alphabet(iam_dict['train']['label'])\n",
        "s2i, i2s = create_converter(alphabet)\n",
        "\n",
        "b_size = 16\n",
        "train_dataset = dict_dataset(iam_dict, s2i, 'train')\n",
        "validation_dataset = dict_dataset(iam_dict, s2i, 'validation')\n",
        "\n",
        "train_loader = DataLoader(train_dataset, b_size, shuffle=True)\n",
        "validation_loader = DataLoader(validation_dataset, b_size, shuffle=True)"
      ],
      "execution_count": 12,
      "outputs": []
    },
    {
      "cell_type": "code",
      "metadata": {
        "id": "OyhwiSvLNNv-"
      },
      "source": [
        "#setup model\n",
        "device = torch.device('cuda' if torch.cuda.is_available() else 'cpu')\n",
        "\n",
        "classes = len(alphabet)\n",
        "lr = 0.0002\n",
        "\n",
        "model = Transformer2D(classes, 2048, 256, n_heads=2 , num_layers=1, cnn='resnet50', partial_cnn='layer4', height=8 , width=240, dropout=0.4, pretrain=True, onedim=True).to(device)\n",
        "criterion = LabelSmoothing(size=classes, padding_idx=0, smoothing=0.8).to(device)\n",
        "optimizer = torch.optim.AdamW(model.parameters(), lr=lr, weight_decay=0.001)\n",
        "scheduler = torch.optim.lr_scheduler.StepLR(optimizer, 1, gamma=0.75)            \n",
        "\n",
        "#init param\n",
        "for p in model.parameters():\n",
        "        if p.dim() > 1:\n",
        "            nn.init.xavier_uniform_(p)\n",
        "\n",
        "save_name = 'demo_save_name'\n",
        "save_path = f\"/content/{save_name}.pt\""
      ],
      "execution_count": null,
      "outputs": []
    },
    {
      "cell_type": "code",
      "metadata": {
        "id": "bni_3vzXNNt6",
        "colab": {
          "base_uri": "https://localhost:8080/",
          "height": 432,
          "referenced_widgets": [
            "7b0dcc8b86144ec3a76ac9477dbbc123",
            "67ab26286dd54a549e0e9080f3463ea8",
            "07fa35f845d44d1d81b79f3cb5523518",
            "06ae63bcb0c94f689b607671252d3485",
            "dff7a915546a4ce484ef830cece7dbbb",
            "0d1fa8065be24805bf10791a8fb868bf",
            "74b10e8af95542dd93067fe50536dc84",
            "b62c7403f0cb49068539978b854858c6",
            "cf8a79a76be94ba9a04b02cd2e23a746",
            "7de0bc74a60e4122a21f0a6a39a12536",
            "a56ad9259fc745af861ca61c1669d798"
          ]
        },
        "outputId": "acb8a0d2-22e8-42e0-bfdf-134931fb7a2e"
      },
      "source": [
        "def epoch_time(start_time, end_time):\n",
        "    elapsed_time = end_time - start_time\n",
        "    elapsed_mins = int(elapsed_time / 60)\n",
        "    elapsed_secs = int(elapsed_time - (elapsed_mins * 60))\n",
        "    return elapsed_mins, elapsed_secs\n",
        "\n",
        "best_validation = np.inf\n",
        "c = 0\n",
        "early_stop = 0\n",
        "train_losses = []\n",
        "val_losses = []\n",
        "for epoch in range(5):  #change this to 1000 for better results \n",
        " \n",
        "    print(f'Epoch: {epoch+1:02}','learning rate{}'.format(scheduler.get_last_lr()))\n",
        "    \n",
        "    start_time = time()\n",
        "\n",
        "    train_loss = train(model, classes, criterion, optimizer, scheduler, train_loader, device)\n",
        "    validation_loss = evaluate(model, classes, criterion, validation_loader, device)\n",
        "\n",
        "    epoch_mins, epoch_secs = epoch_time(start_time, time())\n",
        "  \n",
        "    c+=1\n",
        "    if validation_loss < best_validation:\n",
        "        best_validation = validation_loss\n",
        "        torch.save(model.state_dict(), save_path)\n",
        "        early_stop = 0\n",
        "        c=0\n",
        "    else:\n",
        "        early_stop +=1\n",
        "    if c>3:\n",
        "        #decrease lr if loss does not deacrease after 3 steps\n",
        "        scheduler.step()\n",
        "        c=0\n",
        "    if early_stop == 20: # 20 times bad eval = early stop\n",
        "        break\n",
        "\n",
        "    print(f'Time: {epoch_mins}m {epoch_secs}s') \n",
        "    print(f'Train Loss: {train_loss:.3f}, Val   Loss: {validation_loss:.3f}, best Val Loss: {best_validation:.3f}')\n",
        "\n",
        "    train_losses.append(train_loss)\n",
        "    val_losses.append(validation_loss)\n",
        "\n",
        "#save losses\n",
        "save_dict(list(zip(train_losses,val_losses)),\"/content\", save_name + '_loss')\n"
      ],
      "execution_count": 20,
      "outputs": [
        {
          "output_type": "stream",
          "name": "stdout",
          "text": [
            "Epoch: 01 learning rate[0.0002]\n"
          ]
        },
        {
          "output_type": "display_data",
          "data": {
            "application/vnd.jupyter.widget-view+json": {
              "model_id": "7b0dcc8b86144ec3a76ac9477dbbc123",
              "version_minor": 0,
              "version_major": 2
            },
            "text/plain": [
              "  0%|          | 0/412 [00:00<?, ?it/s]"
            ]
          },
          "metadata": {}
        },
        {
          "output_type": "stream",
          "name": "stdout",
          "text": [
            "Time: 2m 26s\n",
            "Train Loss: 217.518, Val   Loss: 209.503, best Val Loss: 209.503\n",
            "Epoch: 02 learning rate[0.0002]\n"
          ]
        },
        {
          "output_type": "display_data",
          "data": {
            "application/vnd.jupyter.widget-view+json": {
              "model_id": "e181c4c8bcf6471fac8da53707f841de",
              "version_minor": 0,
              "version_major": 2
            },
            "text/plain": [
              "  0%|          | 0/412 [00:00<?, ?it/s]"
            ]
          },
          "metadata": {}
        },
        {
          "output_type": "stream",
          "name": "stdout",
          "text": [
            "Time: 2m 25s\n",
            "Train Loss: 210.378, Val   Loss: 203.864, best Val Loss: 203.864\n",
            "Epoch: 03 learning rate[0.0002]\n"
          ]
        },
        {
          "output_type": "display_data",
          "data": {
            "application/vnd.jupyter.widget-view+json": {
              "model_id": "2469c99a1209447bb16642ed0037afc1",
              "version_minor": 0,
              "version_major": 2
            },
            "text/plain": [
              "  0%|          | 0/412 [00:00<?, ?it/s]"
            ]
          },
          "metadata": {}
        },
        {
          "output_type": "stream",
          "name": "stdout",
          "text": [
            "Time: 2m 25s\n",
            "Train Loss: 205.582, Val   Loss: 197.413, best Val Loss: 197.413\n",
            "Epoch: 04 learning rate[0.0002]\n"
          ]
        },
        {
          "output_type": "display_data",
          "data": {
            "application/vnd.jupyter.widget-view+json": {
              "model_id": "b3392ffcb7be456aa7cd6854fddcb071",
              "version_minor": 0,
              "version_major": 2
            },
            "text/plain": [
              "  0%|          | 0/412 [00:00<?, ?it/s]"
            ]
          },
          "metadata": {}
        },
        {
          "output_type": "stream",
          "name": "stdout",
          "text": [
            "Time: 2m 26s\n",
            "Train Loss: 202.007, Val   Loss: 199.145, best Val Loss: 197.413\n",
            "Epoch: 05 learning rate[0.0002]\n"
          ]
        },
        {
          "output_type": "display_data",
          "data": {
            "application/vnd.jupyter.widget-view+json": {
              "model_id": "3cac1b39fc884ef0ad98826d169c7ea9",
              "version_minor": 0,
              "version_major": 2
            },
            "text/plain": [
              "  0%|          | 0/412 [00:00<?, ?it/s]"
            ]
          },
          "metadata": {}
        },
        {
          "output_type": "stream",
          "name": "stdout",
          "text": [
            "Time: 2m 25s\n",
            "Train Loss: 199.296, Val   Loss: 193.211, best Val Loss: 193.211\n"
          ]
        }
      ]
    },
    {
      "cell_type": "code",
      "metadata": {
        "id": "YJ6AhSczNNsF"
      },
      "source": [
        ""
      ],
      "execution_count": null,
      "outputs": []
    },
    {
      "cell_type": "code",
      "metadata": {
        "id": "oAKau79mNNp1"
      },
      "source": [
        ""
      ],
      "execution_count": null,
      "outputs": []
    },
    {
      "cell_type": "code",
      "metadata": {
        "id": "AnA4ku8quxgm"
      },
      "source": [
        ""
      ],
      "execution_count": null,
      "outputs": []
    },
    {
      "cell_type": "code",
      "metadata": {
        "id": "-kGoG-uJuxed"
      },
      "source": [
        ""
      ],
      "execution_count": null,
      "outputs": []
    },
    {
      "cell_type": "code",
      "metadata": {
        "id": "6T9R-D0vZc49"
      },
      "source": [
        ""
      ],
      "execution_count": null,
      "outputs": []
    },
    {
      "cell_type": "code",
      "metadata": {
        "id": "OGxaKFF_Zc2E"
      },
      "source": [
        ""
      ],
      "execution_count": null,
      "outputs": []
    },
    {
      "cell_type": "code",
      "metadata": {
        "id": "Vt0xrPhiZc0b"
      },
      "source": [
        ""
      ],
      "execution_count": null,
      "outputs": []
    },
    {
      "cell_type": "code",
      "metadata": {
        "id": "teRLhKAnZ7Ss"
      },
      "source": [
        ""
      ],
      "execution_count": null,
      "outputs": []
    },
    {
      "cell_type": "code",
      "metadata": {
        "id": "JOapa7zRZcyF"
      },
      "source": [
        ""
      ],
      "execution_count": null,
      "outputs": []
    },
    {
      "cell_type": "code",
      "metadata": {
        "id": "IzLf6KSEZcuD"
      },
      "source": [
        ""
      ],
      "execution_count": null,
      "outputs": []
    }
  ]
}